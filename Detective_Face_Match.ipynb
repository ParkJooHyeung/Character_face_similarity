{
  "nbformat": 4,
  "nbformat_minor": 0,
  "metadata": {
    "colab": {
      "provenance": [],
      "gpuType": "T4"
    },
    "kernelspec": {
      "name": "python3",
      "display_name": "Python 3"
    },
    "language_info": {
      "name": "python"
    },
    "accelerator": "GPU"
  },
  "cells": [
    {
      "cell_type": "markdown",
      "source": [
        "## MTCNN"
      ],
      "metadata": {
        "id": "ZDFtMgDGWk8M"
      }
    },
    {
      "cell_type": "markdown",
      "source": [
        "#### 라이브러리"
      ],
      "metadata": {
        "id": "V7NwrOzzWtb3"
      }
    },
    {
      "cell_type": "code",
      "source": [
        "!pip install mtcnn"
      ],
      "metadata": {
        "id": "FNRYJhdOWjvy"
      },
      "execution_count": null,
      "outputs": []
    },
    {
      "cell_type": "markdown",
      "source": [
        "#### 예제 코드"
      ],
      "metadata": {
        "id": "GSxzlwpuXdK8"
      }
    },
    {
      "cell_type": "code",
      "source": [
        "# 구글 드라이브 마운트\n",
        "from google.colab import drive\n",
        "drive.mount('/content/drive')\n",
        "\n",
        "import cv2\n",
        "import matplotlib.pyplot as plt\n",
        "from mtcnn import MTCNN\n",
        "\n",
        "# MTCNN 객체 생성\n",
        "detector = MTCNN()\n",
        "\n",
        "# 이미지를 불러옵니다. (드라이브 경로를 수정해주세요)\n",
        "image_path = \"/content/drive/MyDrive/ 뽀로로 데이터/뽀로로 뽀로로/뽀로로 뽀로로_2.jpg\"\n",
        "image = cv2.imread(image_path)\n",
        "\n",
        "if image is None:\n",
        "    print(f\"Error: 이미지를 불러올 수 없습니다. 경로를 확인해 주세요: {image_path}\")\n",
        "else:\n",
        "    image = cv2.cvtColor(image, cv2.COLOR_BGR2RGB)\n",
        "\n",
        "    # 이미지에서 얼굴 검출\n",
        "    faces = detector.detect_faces(image)\n",
        "\n",
        "    # 검출된 얼굴들에 대한 박스 그리기\n",
        "    for face in faces:\n",
        "        x, y, width, height = face['box']\n",
        "        cv2.rectangle(image, (x, y), (x + width, y + height), (255, 0, 0), 2)\n",
        "\n",
        "        # 특징점 그리기 (눈, 코, 입 등)\n",
        "        for key, value in face['keypoints'].items():\n",
        "            cv2.circle(image, value, 2, (0, 255, 0), 2)\n",
        "\n",
        "    # 그려진 이미지 보여주기\n",
        "    plt.imshow(image)\n",
        "    plt.axis('off')\n",
        "    plt.show()\n"
      ],
      "metadata": {
        "id": "jCCyf9PTXk0y"
      },
      "execution_count": null,
      "outputs": []
    },
    {
      "cell_type": "markdown",
      "source": [
        "#### 폴더 안 전체 파일 MTCNN"
      ],
      "metadata": {
        "id": "_z_GAmXmch_m"
      }
    },
    {
      "cell_type": "code",
      "source": [
        "import os\n",
        "\n",
        "def process_image(image_path):\n",
        "    image = cv2.imread(image_path)\n",
        "\n",
        "    if image is None:\n",
        "        print(f\"Error: 이미지를 불러올 수 없습니다. 경로를 확인해 주세요: {image_path}\")\n",
        "    else:\n",
        "        image = cv2.cvtColor(image, cv2.COLOR_BGR2RGB)\n",
        "\n",
        "        # 이미지에서 얼굴 검출\n",
        "        faces = detector.detect_faces(image)\n",
        "\n",
        "        # 검출된 얼굴들에 대한 박스 그리기\n",
        "        for face in faces:\n",
        "            x, y, width, height = face['box']\n",
        "            cv2.rectangle(image, (x, y), (x + width, y + height), (255, 0, 0), 2)\n",
        "\n",
        "            # 특징점 그리기 (눈, 코, 입 등)\n",
        "            for key, value in face['keypoints'].items():\n",
        "                cv2.circle(image, value, 2, (0, 255, 0), 2)\n",
        "\n",
        "        # 그려진 이미지 보여주기\n",
        "        plt.imshow(image)\n",
        "        plt.axis('off')\n",
        "        plt.show()\n",
        "\n",
        "\n",
        "folder_path = \"/content/drive/MyDrive/뽀로로 데이터/뽀로로 패티\"\n",
        "\n",
        "# 이미지 파일 확장자 목록\n",
        "image_exts = [\".jpg\", \".jpeg\", \".png\", \".bmp\"]\n",
        "\n",
        "for file in os.listdir(folder_path):\n",
        "    file_ext = os.path.splitext(file)[1].lower()\n",
        "    if file_ext in image_exts:\n",
        "        path = os.path.join(folder_path, file)\n",
        "        process_image(path)\n"
      ],
      "metadata": {
        "id": "fasTbUzQcGqz"
      },
      "execution_count": null,
      "outputs": []
    },
    {
      "cell_type": "markdown",
      "source": [
        "#### 특징 고유값 추출"
      ],
      "metadata": {
        "id": "ND4jYTbgcoFg"
      }
    },
    {
      "cell_type": "code",
      "source": [
        "import os\n",
        "\n",
        "def process_image(image_path):\n",
        "    image = cv2.imread(image_path)\n",
        "\n",
        "    if image is None:\n",
        "        print(f\"Error: 이미지를 불러올 수 없습니다. 경로를 확인해 주세요: {image_path}\")\n",
        "        return None\n",
        "    else:\n",
        "        image = cv2.cvtColor(image, cv2.COLOR_BGR2RGB)\n",
        "\n",
        "        # 이미지에서 얼굴 검출\n",
        "        faces = detector.detect_faces(image)\n",
        "\n",
        "        keypoints_count = 0\n",
        "\n",
        "        # 검출된 얼굴들에 대한 고유 특징 수 계산\n",
        "        for face in faces:\n",
        "            keypoints = face['keypoints']\n",
        "            keypoints_count += len(keypoints)\n",
        "\n",
        "            # 특징점 값 출력\n",
        "            print(f\"{image_path} - 특징점:\")\n",
        "            for key, value in keypoints.items():\n",
        "                print(f\"{key}: {value}\")\n",
        "\n",
        "        print(f\"\\n{image_path} - 고유의 특징 수: {keypoints_count}\\n\")\n",
        "\n",
        "        return keypoints_count\n",
        "\n",
        "\n",
        "folder_path = \"/content/drive/MyDrive/뽀로로 데이터/뽀로로 패티\"\n",
        "\n",
        "# 이미지 파일 확장자 목록\n",
        "image_exts = [\".jpg\", \".jpeg\", \".png\", \".bmp\"]\n",
        "\n",
        "for file in os.listdir(folder_path):\n",
        "    file_ext = os.path.splitext(file)[1].lower()\n",
        "    if file_ext in image_exts:\n",
        "        path = os.path.join(folder_path, file)\n",
        "        process_image(path)\n"
      ],
      "metadata": {
        "id": "1JO-tmO8ccD8"
      },
      "execution_count": null,
      "outputs": []
    },
    {
      "cell_type": "markdown",
      "source": [
        "#### 평균값 추출"
      ],
      "metadata": {
        "id": "IedID8bChPTe"
      }
    },
    {
      "cell_type": "code",
      "source": [
        "import os\n",
        "import cv2\n",
        "from mtcnn import MTCNN\n",
        "\n",
        "detector = MTCNN()\n",
        "\n",
        "# 이미지 처리 함수 생성\n",
        "def process_image(image_path):\n",
        "    image = cv2.imread(image_path)\n",
        "\n",
        "    # 이미지가 없는 경우 에러 메시지 출력\n",
        "    if image is None:\n",
        "        print(f\"Error: 이미지를 불러올 수 없습니다. 경로를 확인해 주세요: {image_path}\")\n",
        "        return\n",
        "    else:\n",
        "        # 이미지를 RGB 형식으로 변환\n",
        "        image = cv2.cvtColor(image, cv2.COLOR_BGR2RGB)\n",
        "\n",
        "        # 이미지에서 얼굴을 검출\n",
        "        faces = detector.detect_faces(image)\n",
        "\n",
        "        # 검출된 얼굴에서 특징 값을 추가하는 루프\n",
        "        for face in faces:\n",
        "            keypoints = face['keypoints']\n",
        "\n",
        "            # 각 특징 별 고유값 합계를 누적하고 개수를 카운트\n",
        "            for key, value in keypoints.items():\n",
        "                keypoints_sum[key] = tuple(map(lambda x, y: x + y, keypoints_sum[key], value))\n",
        "                keypoints_count[key] += 1\n",
        "\n",
        "# 폴더 경로 설정\n",
        "folder_path = \"/content/drive/MyDrive/뽀로로 데이터/뽀로로 패티\"\n",
        "\n",
        "# 이미지 파일 확장자 목록\n",
        "image_exts = [\".jpg\", \".jpeg\", \".png\", \".bmp\"]\n",
        "\n",
        "# 사진별 고유 특징 값 합계와 카운트를 저장하는 딕셔너리를 생성\n",
        "keypoints_sum = {'left_eye': (0, 0), 'right_eye': (0, 0), 'nose': (0, 0), 'mouth_left': (0, 0), 'mouth_right': (0, 0)}\n",
        "keypoints_count = {'left_eye': 0, 'right_eye': 0, 'nose': 0, 'mouth_left': 0, 'mouth_right': 0}\n",
        "\n",
        "# 폴더의 모든 파일을 검사하여 이미지 처리\n",
        "for file in os.listdir(folder_path):\n",
        "    file_ext = os.path.splitext(file)[1].lower()\n",
        "    if file_ext in image_exts:\n",
        "        path = os.path.join(folder_path, file)\n",
        "        process_image(path)\n",
        "\n",
        "# 계산된 각 특징의 평균 고유값을 출력합니다.\n",
        "average_keypoints = {}\n",
        "for key in keypoints_sum:\n",
        "    average_keypoints[key] = tuple(map(lambda x: x / keypoints_count[key], keypoints_sum[key]))\n",
        "\n",
        "print(\"각 특징의 평균 고유값:\")\n",
        "for key, value in average_keypoints.items():\n",
        "    print(f\"{key}: {value}\")\n",
        "\n"
      ],
      "metadata": {
        "id": "uPzcBbNDhKqI"
      },
      "execution_count": null,
      "outputs": []
    },
    {
      "cell_type": "markdown",
      "source": [
        "### faster rcnn"
      ],
      "metadata": {
        "id": "lDTX4fXAqxdD"
      }
    },
    {
      "cell_type": "code",
      "source": [
        "!pip install torch torchvision\n",
        "!pip install opencv-python"
      ],
      "metadata": {
        "id": "f4MSF0cSq1_b"
      },
      "execution_count": null,
      "outputs": []
    },
    {
      "cell_type": "markdown",
      "source": [
        "#### 예제코드"
      ],
      "metadata": {
        "id": "77ka8JTArJA8"
      }
    },
    {
      "cell_type": "code",
      "source": [
        "import cv2\n",
        "import torch\n",
        "import torchvision\n",
        "\n",
        "# 미리 학습된 Faster R-CNN 모델 불러오기\n",
        "model = torchvision.models.detection.fasterrcnn_resnet50_fpn(pretrained=True)\n",
        "\n",
        "# 모델을 평가 모드로 전환하기 (여기서는 학습이 아닌 객체 검출을 수행하기 때문)\n",
        "model.eval()\n",
        "\n",
        "# 이미지를 불러오기\n",
        "image_path = '/content/drive/MyDrive/ 뽀로로 데이터/뽀로로 루피/뽀로로 루피_1.jpg'\n",
        "image = cv2.imread(image_path)\n",
        "image = cv2.cvtColor(image, cv2.COLOR_BGR2RGB)\n",
        "\n",
        "# 이미지를 PyTorch 텐서로 변환하기\n",
        "tensor_image = torch.from_numpy(image / 255.).float()\n",
        "tensor_image = tensor_image.permute(2, 0, 1).unsqueeze(0)  # [height, width, channels] -> [1, channels, height, width]\n",
        "\n",
        "# 객체 검출 수행\n",
        "with torch.no_grad():\n",
        "    outputs = model(tensor_image)\n",
        "\n",
        "print(outputs)\n"
      ],
      "metadata": {
        "id": "gf0hlCZ-rMxp"
      },
      "execution_count": null,
      "outputs": []
    },
    {
      "cell_type": "markdown",
      "source": [
        "#### boundary box"
      ],
      "metadata": {
        "id": "265B82AbssUu"
      }
    },
    {
      "cell_type": "code",
      "source": [
        "import cv2\n",
        "import torch\n",
        "import torchvision\n",
        "from google.colab.patches import cv2_imshow\n",
        "import glob\n",
        "import os\n",
        "import numpy as np\n",
        "\n",
        "# 미리 학습된 Faster R-CNN 모델 불러오기\n",
        "model = torchvision.models.detection.fasterrcnn_resnet50_fpn(pretrained=True)\n",
        "\n",
        "# 모델을 평가 모드로 전환하기 (여기서는 학습이 아닌 객체 검출을 수행하기 때문)\n",
        "model.eval()\n",
        "\n",
        "# OpenCV face detection을 위한 미리 학습된 모델 불러오기\n",
        "face_cascade = cv2.CascadeClassifier(cv2.data.haarcascades + 'haarcascade_frontalface_default.xml')\n",
        "\n",
        "# SIFT 특징 검출기 생성\n",
        "sift = cv2.SIFT_create()\n",
        "\n",
        "# 이미지 폴더 경로\n",
        "image_folder_path = '/content/drive/MyDrive/ 뽀로로 데이터/뽀로로 루피'\n",
        "\n",
        "# 이미지 폴더에서 모든 jpg 파일 가져오기\n",
        "image_files = glob.glob(os.path.join(image_folder_path, '*.jpg'))\n",
        "\n",
        "eigen_values_list = []\n",
        "\n",
        "for image_path in image_files:\n",
        "    image = cv2.imread(image_path)\n",
        "    orig_image = image.copy()\n",
        "    orig_image = cv2.cvtColor(orig_image, cv2.COLOR_BGR2RGB)\n",
        "\n",
        "    tensor_image = torch.from_numpy(image / 255.).float()\n",
        "    tensor_image = tensor_image.permute(2, 0, 1).unsqueeze(0)\n",
        "\n",
        "    with torch.no_grad():\n",
        "        outputs = model(tensor_image)\n",
        "\n",
        "    boxes = outputs[0]['boxes'].tolist()\n",
        "    scores = outputs[0]['scores'].tolist()\n",
        "\n",
        "    threshold = 0.5\n",
        "\n",
        "    for i in range(len(boxes)):\n",
        "        if scores[i] > threshold:\n",
        "            x1, y1, x2, y2 = boxes[i]\n",
        "            cv2.rectangle(orig_image, (int(x1), int(y1)), (int(x2), int(y2)), (255, 0, 0), 2)\n",
        "\n",
        "            # Face detection 적용\n",
        "            roi = orig_image[int(y1):int(y2), int(x1):int(x2)]\n",
        "            gray_roi = cv2.cvtColor(roi, cv2.COLOR_RGB2GRAY)\n",
        "            faces = face_cascade.detectMultiScale(gray_roi, 1.3, 5)\n",
        "\n",
        "            for (fx, fy, fw, fh) in faces:\n",
        "                cv2.rectangle(roi, (fx, fy), (fx+fw, fy+fh), (0, 255, 0), 2)\n",
        "\n",
        "                # 얼굴 영역에서 특징점 검출\n",
        "                face_roi = gray_roi[fy:fy+fh, fx:fx+fw]\n",
        "                keypoints, _ = sift.detectAndCompute(face_roi, None)\n",
        "\n",
        "                # 특징점을 초록색 점으로 표시\n",
        "                for kp in keypoints:\n",
        "                    x_kp, y_kp = kp.pt\n",
        "                    x_kp, y_kp = int(x_kp), int(y_kp)\n",
        "                    cv2.circle(face_roi, (x_kp, y_kp), 2, (0, 255, 0), 2)\n",
        "\n",
        "                # 고유값 출력\n",
        "                print(f\"[{image_path}] Keypoints: {len(keypoints)}\")\n",
        "\n",
        "            label = f\"{round(scores[i] * 100, 2)}%\"\n",
        "            cv2.putText(orig_image, label, (int(x1), int(y1 - 10)), cv2.FONT_HERSHEY_PLAIN, 1, (255, 0, 0), 2)\n",
        "\n",
        "    print(f\"Object detection result for {image_path}:\")\n",
        "    cv2_imshow(orig_image)\n",
        "    print(\"\\n\")\n"
      ],
      "metadata": {
        "id": "r-ecbtspsrwh"
      },
      "execution_count": null,
      "outputs": []
    }
  ]
}